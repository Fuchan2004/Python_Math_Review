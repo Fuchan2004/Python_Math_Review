{
 "cells": [
  {
   "cell_type": "markdown",
   "id": "d1137daa",
   "metadata": {},
   "source": [
    "# MIT-WHOI JP 2025 Summer Math Review: Introduction to Python\n",
    "## *Created by Zoe Aarons, Fadime Stemmer*\n",
    "##### *Last Modified: 07-16-2025*\n",
    "This notebook utilizes resources from the Environmental Bioinformatics course by Harriet Alexander, Maria Pachiadaki, Carolyn Tepolt, and Arianna Krinos. \n",
    "\n",
    "## Welcome to Python!\n",
    "### This is a Jupyter Notebook that will walk us through the basics of Python, data science applications, and relevant libraries.\n",
    "\n",
    "Python is an open source, object-oriented programming language with useful applications in data science, numerical modeling, GIS, and developing open source software.\n",
    "\n",
    "## Python Basics\n",
    "### Print Statements and Variables \n"
   ]
  },
  {
   "cell_type": "markdown",
   "id": "6b0bb876",
   "metadata": {},
   "source": [
    "You can print a string or integer with the command print():"
   ]
  },
  {
   "cell_type": "code",
   "execution_count": 1,
   "id": "db827c8c",
   "metadata": {},
   "outputs": [
    {
     "name": "stdout",
     "output_type": "stream",
     "text": [
      "Hello World\n",
      "2025\n"
     ]
    }
   ],
   "source": [
    "# Print a string by specifying with '':\n",
    "print('Hello World')\n",
    "\n",
    "# Print an integer by typing the number without '':\n",
    "print(2025)"
   ]
  },
  {
   "cell_type": "markdown",
   "id": "7065ac48",
   "metadata": {},
   "source": [
    "Unlike some other programming languages, you do not need to specify what a variable is going to be. It can honestly be anything and will take on anything. Any data type can be assigned to a variable with the `=`. For example:"
   ]
  },
  {
   "cell_type": "code",
   "execution_count": 2,
   "id": "a5433162",
   "metadata": {},
   "outputs": [],
   "source": [
    "my_name = 'Poseidon'\n",
    "blue = 'red'\n",
    "apple = 5"
   ]
  },
  {
   "cell_type": "markdown",
   "id": "b7f2025b",
   "metadata": {},
   "source": [
    "Variables persist between calls (until they are actively changed by assigning a new value). So, when you set a variable in one cell it is going to be the same further down."
   ]
  },
  {
   "cell_type": "code",
   "execution_count": 3,
   "id": "676baf03",
   "metadata": {},
   "outputs": [
    {
     "name": "stdout",
     "output_type": "stream",
     "text": [
      "Poseidon\n",
      "5\n"
     ]
    }
   ],
   "source": [
    "# print both our variables\n",
    "print(my_name)\n",
    "print(apple)"
   ]
  },
  {
   "cell_type": "markdown",
   "id": "d783ef86",
   "metadata": {},
   "source": [
    "We can also assign and print variables of different data types (together):"
   ]
  },
  {
   "cell_type": "code",
   "execution_count": 4,
   "id": "16208499",
   "metadata": {},
   "outputs": [
    {
     "name": "stdout",
     "output_type": "stream",
     "text": [
      "The god of the ocean is: Poseidon\n"
     ]
    }
   ],
   "source": [
    "# Combine strings & variables in a print statement with commas\n",
    "print('The god of the ocean is:', my_name)"
   ]
  },
  {
   "cell_type": "markdown",
   "id": "7babb4eb",
   "metadata": {},
   "source": [
    "Strings can further be indexed, meaning we can select a single letter or several letters from a string by identifying the position in the string with [ ]. **NOTE: Indexing in python starts at 0, so if you want to grab the 1st letter, you will need to write 0 into the prentheses.**"
   ]
  },
  {
   "cell_type": "code",
   "execution_count": 5,
   "id": "bb8ade4a",
   "metadata": {},
   "outputs": [
    {
     "name": "stdout",
     "output_type": "stream",
     "text": [
      "s\n",
      "Pose\n",
      "on\n"
     ]
    }
   ],
   "source": [
    "# index the 3rd letter of the variable my_name\n",
    "print(my_name[2])\n",
    "\n",
    "# index the first 4 letters of the variable my_name\n",
    "print(my_name[0:4])\n",
    "\n",
    "# we can also use negative numbers to index in reverse\n",
    "print(my_name[-2:])"
   ]
  },
  {
   "cell_type": "markdown",
   "id": "6e7bf222",
   "metadata": {},
   "source": [
    "Sometimes it can be useful to identify the data type (espcially for debugging). You can do that with the `type` function. This is especially helpful when using numeric values, as Python can be a bit finnicky between integers and floats."
   ]
  },
  {
   "cell_type": "code",
   "execution_count": 6,
   "id": "1d44e4af",
   "metadata": {},
   "outputs": [
    {
     "name": "stdout",
     "output_type": "stream",
     "text": [
      "<class 'str'>\n",
      "<class 'int'>\n"
     ]
    }
   ],
   "source": [
    "print(type(my_name))\n",
    "print(type(apple))"
   ]
  },
  {
   "cell_type": "markdown",
   "id": "013b7f77",
   "metadata": {},
   "source": [
    "Variables can also be used in any calculation you want. For example:"
   ]
  },
  {
   "cell_type": "code",
   "execution_count": 7,
   "id": "b7d29123",
   "metadata": {},
   "outputs": [],
   "source": [
    "favorite_number = 24\n",
    "favorite_number_squared = favorite_number ** 2"
   ]
  },
  {
   "cell_type": "markdown",
   "id": "c47354f7",
   "metadata": {},
   "source": [
    "You can also take information and pass it into another text string that is printed:"
   ]
  },
  {
   "cell_type": "code",
   "execution_count": 8,
   "id": "164fcea6",
   "metadata": {},
   "outputs": [
    {
     "name": "stdout",
     "output_type": "stream",
     "text": [
      "My favorite number is 24 that number squared is: 576\n"
     ]
    }
   ],
   "source": [
    "print(\"My favorite number is\" , favorite_number, \"that number squared is:\", favorite_number_squared)"
   ]
  },
  {
   "cell_type": "markdown",
   "id": "d5f58f7a",
   "metadata": {},
   "source": [
    "Or alternatively using the `.format()` method (NOTE: `.format()` is a method that is specific to strings. Methods are like functions but are tied to specific data types.\n"
   ]
  },
  {
   "cell_type": "code",
   "execution_count": 9,
   "id": "6e8d4c63",
   "metadata": {},
   "outputs": [
    {
     "name": "stdout",
     "output_type": "stream",
     "text": [
      "My favorite number is 24 that number squred is 576\n"
     ]
    }
   ],
   "source": [
    "print(\"My favorite number is {} that number squred is {}\".format(favorite_number, favorite_number_squared))"
   ]
  },
  {
   "cell_type": "markdown",
   "id": "9d3b6c42",
   "metadata": {},
   "source": [
    "You can also create user-defined variables with the `input` function: "
   ]
  },
  {
   "cell_type": "code",
   "execution_count": 10,
   "id": "40e53a22",
   "metadata": {},
   "outputs": [
    {
     "name": "stdout",
     "output_type": "stream",
     "text": [
      "What is your favorite number?\n",
      "My favorite number is !\n"
     ]
    }
   ],
   "source": [
    "favorite_number = input('What is your favorite number?')\n",
    "\n",
    "# the + sign concatenates strings\n",
    "print('My favorite number is ' + favorite_number + '!')"
   ]
  },
  {
   "cell_type": "markdown",
   "id": "ef20f6f3",
   "metadata": {},
   "source": [
    "#### Basic Python operators\n",
    "|Sign | Description |\n",
    "|--- | ---  |\n",
    "|+ | addition |\n",
    "|- | subtraction|\n",
    "|* | multiplication|\n",
    "|/ | division|\n",
    "|// | integer division|\n",
    "|** | exponential multiplication|\n",
    "|% | modulus (aka the remainder in division)|\n",
    "\n",
    "You can find more information about Python operators & variable assignment [here](https://www.educative.io/blog/object-oriented-programming)."
   ]
  },
  {
   "cell_type": "markdown",
   "id": "7293be72",
   "metadata": {},
   "source": [
    "### Libraries\n",
    "One of the best features of Python is libraries, or commonly open sourced packages you can import into the software and use their built in functions. There are likely thousands out there, ranging from simple mathematical operations all the way to complex plotting & machine learning algorithms. Below I've outlined a couple libaries I've found useful when working with Python. Many of these are foundational libraries used often as well:\n",
    "\n",
    "#### Click on the Library Name for a link to their website\n",
    "\n",
    "__[numpy](https://numpy.org/):__ basic arthimetic operations all the way to complex mathematical functions\n",
    "\n",
    "__[matplotlib](https://matplotlib.org/):__ basic plotting library *(import as matplotlib.pyplot)*\n",
    "\n",
    "__[pandas](https://pandas.pydata.org/):__ super useful library for data processing and organization!! one of the main reasons to use python\n",
    "\n",
    "__[seaborn](https://seaborn.pydata.org/#):__  fancier plotting library (aka prettier plots)\n",
    "\n",
    "__[sklearn](https://scikit-learn.org/stable/):__ machine learning library with learning data sets and useful algorithms\n",
    "\n",
    "__[cmocean](https://matplotlib.org/cmocean/):__ colorschemes imbedded within matplotlib specifically for commonly measured oceanographic parameters\n",
    "\n",
    "\n",
    "In order to use libraries in Python, we have to import them into the script. Typically this is done at the very beginning of files, which you will see in the applied examples notebooks.\n",
    "\n"
   ]
  },
  {
   "cell_type": "code",
   "execution_count": 11,
   "id": "cc878588",
   "metadata": {},
   "outputs": [],
   "source": [
    "import numpy as np #the \"as\" portion of the code allows you to rename a library (so you can type less when using it a lot!)\n",
    "import matplotlib.pyplot as plt #I am accessing a specific portion of a library using the dot syntax\n",
    "import pandas as pd"
   ]
  },
  {
   "cell_type": "markdown",
   "id": "9e0a79fd",
   "metadata": {},
   "source": [
    "#### Numpy\n",
    "Let´s explore some functionalities of Numpy. We can load in a datafile (.txt) using `np.loadtxt`."
   ]
  },
  {
   "cell_type": "code",
   "execution_count": 15,
   "id": "47533810",
   "metadata": {},
   "outputs": [
    {
     "name": "stdout",
     "output_type": "stream",
     "text": [
      "[[  10.   20.]\n",
      " [  50.   23.]\n",
      " [ 100.   33.]\n",
      " [ 200.   57.]\n",
      " [ 300.  103.]\n",
      " [ 400.  178.]\n",
      " [ 500.  212.]\n",
      " [ 600.  234.]\n",
      " [ 700.  240.]\n",
      " [ 800.  239.]\n",
      " [ 900.  240.]\n",
      " [1000.  241.]]\n"
     ]
    }
   ],
   "source": [
    "# load a file using numpy\n",
    "data = np.loadtxt('./random.txt',delimiter=',')\n",
    "print(data)"
   ]
  },
  {
   "cell_type": "markdown",
   "id": "c68272c3",
   "metadata": {},
   "source": [
    "Next let´s check some useful mathematical/statistical operations:"
   ]
  },
  {
   "cell_type": "code",
   "execution_count": 16,
   "id": "6d0c3fd9",
   "metadata": {},
   "outputs": [
    {
     "name": "stdout",
     "output_type": "stream",
     "text": [
      "3.141592653589793\n",
      "77.0\n",
      "16.62828914831589\n"
     ]
    },
    {
     "data": {
      "text/plain": [
       "308"
      ]
     },
     "execution_count": 16,
     "metadata": {},
     "output_type": "execute_result"
    }
   ],
   "source": [
    "# access pi from the numpy library\n",
    "print(np.pi)\n",
    "\n",
    "# calculate the mean and standard devation of a list of values\n",
    "scores = [98,72,85,53]\n",
    "\n",
    "# find the mean of the dataset\n",
    "print(np.mean(scores))\n",
    "\n",
    "# find the standard deviation of the dataset\n",
    "print(np.std(scores))\n",
    "\n",
    "# determine the sum of all elements in the list\n",
    "np.sum(scores)"
   ]
  },
  {
   "cell_type": "markdown",
   "id": "55934fab",
   "metadata": {},
   "source": [
    "There is much more one can do with numpy - it is always useful to check out the documentation to explore functionalities and find out how to use the respective tools. You will practice using the documentation in the excercises. "
   ]
  },
  {
   "cell_type": "markdown",
   "id": "0a3ce0b0",
   "metadata": {},
   "source": [
    "### Attributes vs. Methods\n",
    "The variables we have created previously are also called **objects** and are the building blocks for our code. They have inherent **attributes**, or properties about themselves we can access and use to inform our code. We can also perform **methods** on objects, which are a series of operations we can use to manipulate, extract, and/or alter the attributes of the object.\n",
    "\n",
    "To access the attributes of an object, we typically use this notation: `attribute(object)`. This will return whatever specific property we want to know about an object. \n",
    "\n",
    "Methods are utilized with the dot notation: `object.method()`. \n",
    "\n",
    "Some useful attributes:\n",
    "\n",
    "|Attribute | Description |\n",
    "|:------------- |:-------------|\n",
    "|`help()`|Use help function to get specific information about what a method or attribute does.|\n",
    "|`print()`|Prints string/integer/variable that is specified in ( ).|\n",
    "|`len()`|Tells lenght of a string and saves as integer.|\n",
    "\n",
    "Some useful methods: \n",
    "\n",
    "|Method | Description |\n",
    "| :------------- |:-------------|\n",
    "|`STRING.format`| Specific for strings. `.format` allows the insertion of variables (type string) or strings directly into a field specified by { }.|\n",
    "|`LIST.append()`|Add items to end of a list. Only takes one argument.|\n",
    "|`\"string\".upper()`||\n",
    "|`\"string\".lower()`||\n",
    "|`SET.union()`|Combines sets 1 and 2 without repeating values|\n",
    "|`SET_1.intersection(SET_2)`|Finds values that appear in both sets|\n",
    "|`SET_1.difference(SET_2)`|Finds all values that appear in set_1 but not in set_2|\n",
    "|`SET.issubset('VALUE1', 'VALUE2')`|Make sure set only consists of certain values specified in ().|\n",
    "|`DICTIONARY.keys()`|Prints keys of the dictionary|\n",
    "|`DICTIONARY.values()`|Prints values of the dictionary|\n",
    "|`STRING.strip()`|Strips whitespace () or specific character ('CHARACTER') off at the end of a string|\n",
    "|`STRING.split()[INDEX]`|Splits a string based on a provided delimiter. By providing index we separate strings and then select specified column.|\n",
    "|`STRING.count()`|Counts the number of occurences of a character within a string|\n",
    "|`STRING.join('ELEMENT_1', 'ELEMENT_2')`|Joins elements of a list with specified string|\n",
    "|`VARIABLE.startswith('string')`|Test whether a string starts with a specified character/set of characters|\n",
    "|`VARIABLE.endswith('string')`|Test whether a string ends with a specified character/set of characters|\n",
    "|`STRING.replace('string_to_replace', 'replacement_string')`|Replaces specified character or set of characters with another|\n",
    "\n",
    "#### Exercise - String operations\n",
    "Lets look at some examples for methods and attributes. "
   ]
  },
  {
   "cell_type": "code",
   "execution_count": 25,
   "id": "fbf0f2af",
   "metadata": {},
   "outputs": [
    {
     "name": "stdout",
     "output_type": "stream",
     "text": [
      "#AOPE; BIO; MC&G; MG&G; PO#\n",
      "AOPE; BIO; MC&G; MG&G; PO\n",
      "AOPE, BIO, MC&G, MG&G, PO\n",
      "['AOPE', 'BIO', 'MC&G', 'MG&G', 'PO']\n"
     ]
    }
   ],
   "source": [
    "# create a string with all the department names:\n",
    "depts = '#AOPE; BIO; MC&G; MG&G; PO#'\n",
    "print(depts)\n",
    "\n",
    "# remove hashtags\n",
    "depts = depts.strip('#')\n",
    "print(depts)\n",
    "\n",
    "# change the commas to semicolons\n",
    "depts = depts.replace(';',',')\n",
    "print(depts)\n",
    "\n",
    "# split the string after each comma\n",
    "depts = depts.split(', ')\n",
    "\n",
    "# note that this function returns a list with all the new strings!\n",
    "print(depts)"
   ]
  },
  {
   "cell_type": "markdown",
   "id": "362fd9b8",
   "metadata": {},
   "source": [
    "If you ever get confused on what a specific method or function does, you can use the `help()` function to access documentation:"
   ]
  },
  {
   "cell_type": "code",
   "execution_count": 26,
   "id": "1808c111",
   "metadata": {},
   "outputs": [
    {
     "name": "stdout",
     "output_type": "stream",
     "text": [
      "Help on class type in module builtins:\n",
      "\n",
      "class type(object)\n",
      " |  type(object) -> the object's type\n",
      " |  type(name, bases, dict, **kwds) -> a new type\n",
      " |  \n",
      " |  Methods defined here:\n",
      " |  \n",
      " |  __call__(self, /, *args, **kwargs)\n",
      " |      Call self as a function.\n",
      " |  \n",
      " |  __delattr__(self, name, /)\n",
      " |      Implement delattr(self, name).\n",
      " |  \n",
      " |  __dir__(self, /)\n",
      " |      Specialized __dir__ implementation for types.\n",
      " |  \n",
      " |  __getattribute__(self, name, /)\n",
      " |      Return getattr(self, name).\n",
      " |  \n",
      " |  __init__(self, /, *args, **kwargs)\n",
      " |      Initialize self.  See help(type(self)) for accurate signature.\n",
      " |  \n",
      " |  __instancecheck__(self, instance, /)\n",
      " |      Check if an object is an instance.\n",
      " |  \n",
      " |  __or__(self, value, /)\n",
      " |      Return self|value.\n",
      " |  \n",
      " |  __repr__(self, /)\n",
      " |      Return repr(self).\n",
      " |  \n",
      " |  __ror__(self, value, /)\n",
      " |      Return value|self.\n",
      " |  \n",
      " |  __setattr__(self, name, value, /)\n",
      " |      Implement setattr(self, name, value).\n",
      " |  \n",
      " |  __sizeof__(self, /)\n",
      " |      Return memory consumption of the type object.\n",
      " |  \n",
      " |  __subclasscheck__(self, subclass, /)\n",
      " |      Check if a class is a subclass.\n",
      " |  \n",
      " |  __subclasses__(self, /)\n",
      " |      Return a list of immediate subclasses.\n",
      " |  \n",
      " |  mro(self, /)\n",
      " |      Return a type's method resolution order.\n",
      " |  \n",
      " |  ----------------------------------------------------------------------\n",
      " |  Class methods defined here:\n",
      " |  \n",
      " |  __prepare__(...)\n",
      " |      __prepare__() -> dict\n",
      " |      used to create the namespace for the class statement\n",
      " |  \n",
      " |  ----------------------------------------------------------------------\n",
      " |  Static methods defined here:\n",
      " |  \n",
      " |  __new__(*args, **kwargs)\n",
      " |      Create and return a new object.  See help(type) for accurate signature.\n",
      " |  \n",
      " |  ----------------------------------------------------------------------\n",
      " |  Data descriptors defined here:\n",
      " |  \n",
      " |  __abstractmethods__\n",
      " |  \n",
      " |  __annotations__\n",
      " |  \n",
      " |  __dict__\n",
      " |  \n",
      " |  __text_signature__\n",
      " |  \n",
      " |  ----------------------------------------------------------------------\n",
      " |  Data and other attributes defined here:\n",
      " |  \n",
      " |  __base__ = <class 'object'>\n",
      " |      The base class of the class hierarchy.\n",
      " |      \n",
      " |      When called, it accepts no arguments and returns a new featureless\n",
      " |      instance that has no instance attributes and cannot be given any.\n",
      " |  \n",
      " |  \n",
      " |  __bases__ = (<class 'object'>,)\n",
      " |  \n",
      " |  __basicsize__ = 904\n",
      " |  \n",
      " |  __dictoffset__ = 264\n",
      " |  \n",
      " |  __flags__ = 2148031744\n",
      " |  \n",
      " |  __itemsize__ = 40\n",
      " |  \n",
      " |  __mro__ = (<class 'type'>, <class 'object'>)\n",
      " |  \n",
      " |  __weakrefoffset__ = 368\n",
      "\n"
     ]
    }
   ],
   "source": [
    "help(type)"
   ]
  },
  {
   "cell_type": "markdown",
   "id": "37930cc0",
   "metadata": {},
   "source": [
    "### Variables with Arrays, Lists, Dictionaries, and Sets\n",
    "#### Lists\n",
    "An `array` is a collection of data that is called by a single variable name.\n",
    "\n",
    "A `list` is a 1D array that contains a series of values. List variables are declared by using brackets [ ]  following the variable name. Values do not need to be of the same type (i.e. you can have a mixture of strings, integers, floats, and booleans). You can also have list contained within a list. Lists are always ordered (once you set the order).\n",
    "\n",
    "Let's try making a list that contains your favorite number, letter, and fruit:"
   ]
  },
  {
   "cell_type": "code",
   "execution_count": 27,
   "id": "0f44b10e",
   "metadata": {},
   "outputs": [],
   "source": [
    "# Create a list called favorites\n",
    "Favorites =[23, 'R', 'Blueberries']"
   ]
  },
  {
   "cell_type": "markdown",
   "id": "32651998",
   "metadata": {},
   "source": [
    "Arrays and lists can also be indexed, since they are ordered. "
   ]
  },
  {
   "cell_type": "code",
   "execution_count": 28,
   "id": "2c869fcd",
   "metadata": {},
   "outputs": [
    {
     "data": {
      "text/plain": [
       "'Blueberries'"
      ]
     },
     "execution_count": 28,
     "metadata": {},
     "output_type": "execute_result"
    }
   ],
   "source": [
    "# Call the 3rd element in the list \"Favorites\" using indexing\n",
    "Favorites[2]"
   ]
  },
  {
   "cell_type": "markdown",
   "id": "14e44958",
   "metadata": {},
   "source": [
    "We can use functions to modify lists. Lets add another element to the end of the list using one of the functions we learned about previously."
   ]
  },
  {
   "cell_type": "code",
   "execution_count": 29,
   "id": "47991d9b",
   "metadata": {},
   "outputs": [
    {
     "name": "stdout",
     "output_type": "stream",
     "text": [
      "[23, 'R', 'Blueberries', 'Taekwondo']\n"
     ]
    }
   ],
   "source": [
    "# Add your favorite sports to the end of the list\n",
    "Favorites.append('Taekwondo')\n",
    "print(Favorites)"
   ]
  },
  {
   "cell_type": "markdown",
   "id": "a4ca4f50",
   "metadata": {},
   "source": [
    "### Arrays\n",
    "Arrays are useful when working with numeric data. One of the options for working with numeric data is the package numpy. Since we already imported numpy before, we can directly get to work!\n",
    "\n",
    "Here is a summary of useful functions you can use with numpy (Also don´t forget that you can use help() to get more instructions on how to use certain functionalities.)\n",
    "\n",
    "|Method | Description |\n",
    "|:------------- |:-------------|\n",
    "|`np.array([1D, 1D, 1D],[2D, 2D, 2D],[3D, 3D, 3D])`|Storing numeric data, whether imported or created within Python. Numpy arrays are analagous to one of the main data structures in MATLAB, and has a series of accompanying functions built into the numpy library. The number of brackets signifies the dimension of the array and each dimension contains elements.|\n",
    "|`np.ones_like(ARRAY)`|Create an empty array based on a previously defined array filled with 1s.|\n",
    "|`np.zeros_like(ARRAY)`|Create an empty array based on a previously defined array filled with 0s.|\n"
   ]
  },
  {
   "cell_type": "code",
   "execution_count": 2,
   "id": "77fe3aac",
   "metadata": {},
   "outputs": [],
   "source": [
    "#help(np)"
   ]
  },
  {
   "cell_type": "code",
   "execution_count": 31,
   "id": "30452a10",
   "metadata": {},
   "outputs": [
    {
     "name": "stdout",
     "output_type": "stream",
     "text": [
      "[1 2 3]\n",
      "[[1 2 3]\n",
      " [4 5 6]\n",
      " [7 8 9]]\n",
      "[[1 1 1]\n",
      " [1 1 1]\n",
      " [1 1 1]]\n",
      "[[0 0 0]\n",
      " [0 0 0]\n",
      " [0 0 0]]\n"
     ]
    }
   ],
   "source": [
    "# create a 1D numpy array\n",
    "data1D = np.array([1,2,3])\n",
    "print(data1D)\n",
    "\n",
    "# to create an array a multidimensional array, add each row's values in another [] within the .array command\n",
    "data3D = np.array([[1,2,3], [4,5,6], [7,8,9]])\n",
    "print(data3D)\n",
    "\n",
    "# create an empty array based on the 3D array from the cell block above\n",
    "ones_data3D = np.ones_like(data3D)\n",
    "print(ones_data3D)\n",
    "\n",
    "# create a zeros array based on the same array\n",
    "zeros_data3D = np.zeros_like(data3D)\n",
    "print(zeros_data3D)"
   ]
  },
  {
   "cell_type": "markdown",
   "id": "e06020b5",
   "metadata": {},
   "source": [
    "To determine the dimensions of an array, you can access the shape method. You can also rearrange rows and columns of arrays with the reshape tool. Python syntax is (rows, columns)."
   ]
  },
  {
   "cell_type": "code",
   "execution_count": 32,
   "id": "a5baa5fe",
   "metadata": {},
   "outputs": [
    {
     "name": "stdout",
     "output_type": "stream",
     "text": [
      "(3, 3)\n",
      "[[1]\n",
      " [2]\n",
      " [3]\n",
      " [4]\n",
      " [5]\n",
      " [6]\n",
      " [7]\n",
      " [8]\n",
      " [9]]\n"
     ]
    }
   ],
   "source": [
    "# obtain the dimensions of our current array\n",
    "print(data3D.shape)\n",
    "\n",
    "# reshape our current 3D array into a 1D array\n",
    "# note if you have an unknown number of rows or columns to convert to, you can input -1 and python will figure it out!\n",
    "data1D = data3D.reshape(-1,1)\n",
    "print(data1D)"
   ]
  },
  {
   "cell_type": "markdown",
   "id": "245ee412",
   "metadata": {},
   "source": [
    "### Sets\n",
    "Sets in python look a bit like lists at first, but they serve a different purpose. Sets are an unordered collections of unique elements-- this means that more than one of the same item cannot occur and that sets cannot be indexed. So, why would you want to use them? Well, they end up being very useful if you ever want to identify if something is present in a group or identify what the unique members of a group are. Sets are made using the function set()."
   ]
  },
  {
   "cell_type": "code",
   "execution_count": 33,
   "id": "0b143b80",
   "metadata": {},
   "outputs": [
    {
     "name": "stdout",
     "output_type": "stream",
     "text": [
      "{'blue', 'red', 'green'}\n"
     ]
    }
   ],
   "source": [
    "# Create a list of colors\n",
    "colors = ['blue', 'blue', 'red', 'green']\n",
    "\n",
    "# Create a set \n",
    "uniquecolors = set(colors)\n",
    "print(uniquecolors)"
   ]
  },
  {
   "cell_type": "markdown",
   "id": "523d77b6",
   "metadata": {},
   "source": [
    "Sets have some really powerful methods associated with them. For example, you can rapidly run math-like set comparison with `.union()`, `.intersection()`, `.difference()`. Try running these commands with the sets defined below."
   ]
  },
  {
   "cell_type": "code",
   "execution_count": 3,
   "id": "8da2a898",
   "metadata": {},
   "outputs": [
    {
     "name": "stdout",
     "output_type": "stream",
     "text": [
      "{'apple', 'ashen', 'stare', 'architecture', 'frazzle', 'bane'} {'apple'} {'architecture', 'ashen'}\n"
     ]
    }
   ],
   "source": [
    "begin_in_A = set(['apple', 'ashen', 'architecture'])\n",
    "end_in_E = set(['stare', 'bane', 'apple', 'frazzle'])\n",
    "\n",
    "# Union - Combines the objects in both sets and saves in new set\n",
    "union = begin_in_A.union(end_in_E)\n",
    "\n",
    "# Intersection - Output is objects present in both compared sets\n",
    "intersection = begin_in_A.intersection(end_in_E)\n",
    "\n",
    "# Difference - Output is objects that are in begin_in_A but removes everything that is also in end_in_E\n",
    "difference = begin_in_A.difference(end_in_E)\n",
    "\n",
    "print(union, intersection, difference)\n"
   ]
  },
  {
   "cell_type": "markdown",
   "id": "e2d03315",
   "metadata": {},
   "source": [
    "### Dictionaries\n",
    "\n",
    "A dictionary (sometimes called a hash or map in other languages) is a different type of container. It is much like it sounds-- it is a dictionary. As with a paper dictionary, where you look up a word and get a definition (or multiple definitions), a dictionary will take a key and look up any associated value. Values can be anything that you can store to a variable: strings, lists, sets, other dictionaries. Dictionaries can be as simple as associating one string with another string or can be much more complicated.\n",
    "\n",
    "You can initiate a dictionary with {}:"
   ]
  },
  {
   "cell_type": "code",
   "execution_count": 35,
   "id": "739bda8e",
   "metadata": {},
   "outputs": [
    {
     "name": "stdout",
     "output_type": "stream",
     "text": [
      "1000\n",
      "{'sea water depth': 10, 'sediment discharge': 1000, 'island width': 300}\n"
     ]
    }
   ],
   "source": [
    "# create a dictionary of model parameters\n",
    "params = {'sea water depth': 5, 'sediment discharge': 1000, 'island width': 300}\n",
    "\n",
    "# print our sediment discharge value\n",
    "print(params['sediment discharge'])\n",
    "\n",
    "# we can iterate over existing values in our dictionary by calling the associated keys\n",
    "params['sea water depth'] = 10\n",
    "print(params)"
   ]
  },
  {
   "cell_type": "markdown",
   "id": "34e6c2a6",
   "metadata": {},
   "source": [
    "## Loops and Conditions\n",
    "### Looping\n",
    "`for` loops iterate through a specified range of items/time/etc., and performs tasks at each step. They take the general form: \n"
   ]
  },
  {
   "cell_type": "code",
   "execution_count": 36,
   "id": "6b71df4d",
   "metadata": {},
   "outputs": [
    {
     "name": "stdout",
     "output_type": "stream",
     "text": [
      "Arctic\n",
      "Antarctic\n",
      "Atlantic\n",
      "Indian\n",
      "Pacific\n"
     ]
    }
   ],
   "source": [
    "# List with worlds oceans:\n",
    "oceans = ['Arctic', 'Antarctic', 'Atlantic', 'Indian', 'Pacific']\n",
    "\n",
    "for item in oceans:\n",
    "    print(item)\n"
   ]
  },
  {
   "cell_type": "markdown",
   "id": "538f7d68",
   "metadata": {},
   "source": [
    "Unlike bash, python formatting relies a lot on the presence of white space to define different components of a program element. In python the for statement is always followed by a `:`. Then, anything following this `:` must be tabbed over and anything occurring within this textual block will be considered to be part of the thing to be looped over.\n",
    "\n",
    "For loops can loop over any of the sets we defined above : lists, strings, etc.\n",
    "\n",
    "> Exercise: We have a dictionary that gives us the complementary base to a specified base. Let´s write a for loop that lets us iterate over a DNA sequence and gives us the complementary sequence!\n"
   ]
  },
  {
   "cell_type": "code",
   "execution_count": 37,
   "id": "77deaf5d",
   "metadata": {},
   "outputs": [
    {
     "name": "stdout",
     "output_type": "stream",
     "text": [
      "TACGGACCCTATA\n"
     ]
    }
   ],
   "source": [
    "# Complementary base dictionary\n",
    "comp_dict = {'A': 'T', 'T': 'A', 'G': 'C', 'C': 'G'}\n",
    "\n",
    "# DNA sequence: \n",
    "sequence = 'ATGCCTGGGATAT'\n",
    "reverse_complement=''\n",
    "\n",
    "# for loop: \n",
    "for base in sequence:\n",
    "    reverse_complement += comp_dict[base] \n",
    "    \n",
    "print(reverse_complement)"
   ]
  },
  {
   "cell_type": "markdown",
   "id": "c400e635",
   "metadata": {},
   "source": [
    "### Conditions - Deciding with if and else\n",
    "Often times in programming you have the computer make decisions for you. You want to do one thing to one set of files and something different with the other set. The `if` statement is the most commonly used technique for such decision making. You can think of it is as a fork in the road: based on a binary True/False choice at this fork you will do one thing or another.\n",
    "\n",
    "If statements are encoded with the the keyword `if`  and a : as with for loops. `else`, when added gives the option for what to do if the first statement is not true. \n",
    "\n",
    "Lets write a simple if statement:"
   ]
  },
  {
   "cell_type": "code",
   "execution_count": 4,
   "id": "5448ff1b",
   "metadata": {},
   "outputs": [
    {
     "name": "stdin",
     "output_type": "stream",
     "text": [
      "Input a random integer: 1\n"
     ]
    },
    {
     "name": "stdout",
     "output_type": "stream",
     "text": [
      "1 is positive!\n"
     ]
    }
   ],
   "source": [
    "# generate an input statement asking for an random integer\n",
    "num = int(input('Input a random integer:'))\n",
    "\n",
    "# print different statements based on numeric value\n",
    "if num > 0:\n",
    "    print(num,'is positive!')\n",
    "elif num==0: ## the '==' means the object value has to match EXACTLY with the criteria\n",
    "    print(num,'is zero!')\n",
    "else:\n",
    "    print(num,'is negative!')"
   ]
  },
  {
   "cell_type": "markdown",
   "id": "97f0b72c",
   "metadata": {},
   "source": [
    "You can also add multiple criteria to conditional statements. We use `and` when we need all criteria to be met, and `or` when at least 1 criteria needs to be met."
   ]
  },
  {
   "cell_type": "code",
   "execution_count": 5,
   "id": "afb413f8",
   "metadata": {},
   "outputs": [
    {
     "name": "stdin",
     "output_type": "stream",
     "text": [
      "Input a random integer: 2\n"
     ]
    },
    {
     "name": "stdout",
     "output_type": "stream",
     "text": [
      "Is your number between 1-10?\n",
      "Yes!\n"
     ]
    }
   ],
   "source": [
    "# generate an input statement asking for a random integer\n",
    "num = int(input('Input a random integer:'))\n",
    "\n",
    "# create a conditional statement based on if the number is between 1-10\n",
    "print('Is your number between 1-10?')\n",
    "if (num > 1) and (num < 10):\n",
    "    print('Yes!')\n",
    "else:\n",
    "    print('No!')"
   ]
  },
  {
   "cell_type": "markdown",
   "id": "11662a5c",
   "metadata": {},
   "source": [
    "## Functions\n",
    "Functions are a great way to streamline your code and make it more human friendly. They allow you to apply the same set of commands to some new variable or value. So you only have to write a function once-- but can reuse it forever!\n",
    "\n",
    "To do write functions in python we use the term `def` which is short for definition. `def` is followed by the name of the function that you are writing. As with for loops etc. above, white space is used define the code block that will be included in the function. After the function-name you have a set of parentheses after which you can list all the parameters that should be passed to the function."
   ]
  },
  {
   "cell_type": "code",
   "execution_count": 40,
   "id": "692bd12d",
   "metadata": {},
   "outputs": [],
   "source": [
    "# Lets define the function addx which takes two parameters as inputs and adds them together. \n",
    "bignumber = 134709457\n",
    "def addx(input, x):\n",
    "    output = input + x\n",
    "    print(input, 'plus', x, 'equals', output)"
   ]
  },
  {
   "cell_type": "markdown",
   "id": "93eb395a",
   "metadata": {},
   "source": [
    "Simply defining a function does not run it. Note, if you paste this into a cell in Python nothing will be printed. To execute a function you must call it."
   ]
  },
  {
   "cell_type": "code",
   "execution_count": 41,
   "id": "6d1ceba2",
   "metadata": {},
   "outputs": [
    {
     "name": "stdout",
     "output_type": "stream",
     "text": [
      "134709457 plus 5 equals 134709462\n",
      "2 plus 40000 equals 40002\n",
      "None\n"
     ]
    }
   ],
   "source": [
    "# Lets add bignumber with 5:\n",
    "addx(bignumber, 5)\n",
    "\n",
    "# Lets assign the variable biggernumber to the result of our calculation.\n",
    "biggernumber = addx(2, 40000)\n",
    "print(biggernumber)"
   ]
  },
  {
   "cell_type": "markdown",
   "id": "e15bd073",
   "metadata": {},
   "source": [
    "You shouldn't see any value automatically assigned to output. \n",
    "\n",
    "Broadly, you can think of this as variables defined within a function have a scope only within that function. Variables defined outside of a function are accessible throughout.\n",
    "\n",
    "* The variable `bignumber` is a global variable. This means that it was defined outside of a function and can be viable (accessible) everywhere (globally).\n",
    "* The variables `output`, `input`, and `x` are local variables within the function `addx`. These variables are only accessible within the function `addx` and do not get added to the global namespace.\n",
    "\n",
    "So, what if you wanted to do something with the variable output from `addx`? Any variable that you want to access from a function has to be returned to the global name space. This can be done with `return`."
   ]
  },
  {
   "cell_type": "code",
   "execution_count": 42,
   "id": "8ac57b4e",
   "metadata": {},
   "outputs": [
    {
     "name": "stdout",
     "output_type": "stream",
     "text": [
      "2 plus 40000 equals 40002\n",
      "40002\n"
     ]
    }
   ],
   "source": [
    "def addx(input, x):\n",
    "    output = input + x\n",
    "    print(input, 'plus', x, 'equals', output)\n",
    "    return output\n",
    "\n",
    "# lets run addx again:\n",
    "biggernumber = addx(2, 40000)\n",
    "print(biggernumber)"
   ]
  },
  {
   "cell_type": "markdown",
   "id": "922ca9c2",
   "metadata": {},
   "source": [
    "## Applied Excercises!\n",
    "This is the end of the general Python review! Now let´s practice our (maybe) newly acquired skills with some excercises! --> See GitHub for the files!"
   ]
  }
 ],
 "metadata": {
  "kernelspec": {
   "display_name": "Python 3 (ipykernel)",
   "language": "python",
   "name": "python3"
  },
  "language_info": {
   "codemirror_mode": {
    "name": "ipython",
    "version": 3
   },
   "file_extension": ".py",
   "mimetype": "text/x-python",
   "name": "python",
   "nbconvert_exporter": "python",
   "pygments_lexer": "ipython3",
   "version": "3.13.5"
  }
 },
 "nbformat": 4,
 "nbformat_minor": 5
}
