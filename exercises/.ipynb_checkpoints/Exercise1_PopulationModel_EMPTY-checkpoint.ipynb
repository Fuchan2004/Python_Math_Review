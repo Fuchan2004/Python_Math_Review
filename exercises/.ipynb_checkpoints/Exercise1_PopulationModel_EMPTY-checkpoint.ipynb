{
 "cells": [
  {
   "attachments": {},
   "cell_type": "markdown",
   "id": "de67ba37-4830-49d5-9d27-8923419ae595",
   "metadata": {},
   "source": [
    "## Exercise #1: Modeling population growth\n",
    "\n",
    "In this exercise, we will set up a population growth model in order to practice:\n",
    "- Creating and working with arrays using `numpy`\n",
    "- For loops\n",
    "- Plotting with `matplotlib`\n",
    "\n",
    "*Optional*:\n",
    "- Using `scipy` to calculate linear regression"
   ]
  },
  {
   "cell_type": "code",
   "execution_count": null,
   "id": "521cf03e-5f67-40bb-b53d-8e5bf5fc3cc1",
   "metadata": {},
   "outputs": [],
   "source": [
    "# import libraries\n",
    "import numpy as np\n",
    "import matplotlib.pyplot as plt"
   ]
  },
  {
   "attachments": {},
   "cell_type": "markdown",
   "id": "fe766164-0a49-4372-8f9c-0f004d8df5f7",
   "metadata": {},
   "source": [
    "### 1. Initilize model\n",
    "Let's start with a simple and fundamental model in population ecology:\n",
    "dN/dt = (birth rate - death rate) * (# of individuals in population) = r * N\n",
    "\n",
    "First, we need to establish some variables for our model. You can choose any number you see fit. For this example let's start with 10 individuals at t=0 and a growth rate of 0.1. We will observe the cultures over the course of 100 hours:"
   ]
  },
  {
   "cell_type": "code",
   "execution_count": null,
   "id": "8ba84703-3d50-4200-862b-8bb64110cc05",
   "metadata": {},
   "outputs": [],
   "source": [
    "# Number of individuals at time 0\n",
    "N_t0 =\n",
    "# Growth rate (growth rate = r = birth - death) of population per hour \n",
    "growthRate =\n",
    "# Number of steps in model (each step equals 1 hour, so number of hours)\n",
    "modelSteps ="
   ]
  },
  {
   "attachments": {},
   "cell_type": "markdown",
   "id": "ef5e02c7-aa5c-40bc-9ff4-190310e1d2aa",
   "metadata": {},
   "source": [
    "We also need a way to store all the data we will be generate in our model runs. We will use the **array** data type within the `numpy` library to do this:"
   ]
  },
  {
   "cell_type": "code",
   "execution_count": 3,
   "id": "cbf5cf96-974c-4ea6-ac0a-0fbdac57c6c7",
   "metadata": {},
   "outputs": [],
   "source": [
    "# Create an empty array that stores population size over the course of our experiment, all initialized to 0\n",
    "N =\n",
    "print(N)\n",
    "\n",
    "# Set number of individuals at time 0 within our array to our previously defined value\n",
    "\n",
    "print(N)"
   ]
  },
  {
   "attachments": {},
   "cell_type": "markdown",
   "id": "40b8dc9a-d6ce-42ce-a743-6bbc5313d962",
   "metadata": {},
   "source": [
    "### 2. Build/run model\n",
    "\n",
    "Now we're ready to construct our model! Remember that we are modelling growth rate using the function: \n",
    "\n",
    "$dN/dt = r * N$, where $r$ = growth rate ($h^{-1}$) and N = # individuals in population\n",
    "\n",
    "So at every time step $t$, \n",
    "\n",
    "$N(t) = N(t-1) + r*N(t-1)$\n",
    "\n",
    "This model uses the `numpy` and `random` libraries. We will also be using a **for loop** to run our model for the desired time interval. But let's start by practicing with a single time step (no **for loop** needed) and calculate the population at time = 1 hour:"
   ]
  },
  {
   "cell_type": "code",
   "execution_count": null,
   "id": "bd76d802-758f-4671-a88e-f6cb3db7034d",
   "metadata": {},
   "outputs": [],
   "source": [
    "# Remember that population at time 0 is the 1st element in our array (index 0)\n",
    "print(N[0])\n",
    "\n",
    "# Write a line of code to calculate population at time 1\n",
    "\n",
    "print(N[1])\n",
    "print(N)"
   ]
  },
  {
   "cell_type": "code",
   "execution_count": null,
   "id": "75f7cb0b-678b-439e-a854-4f6bd0eabac7",
   "metadata": {},
   "outputs": [],
   "source": [
    "# But we also need to fill in rest of time points!\n",
    "# Write a for loop that calculates population at each time step\n",
    "for :\n",
    "    # calculate N(t) based on N(t-1)\n",
    "    \n",
    "# Let's look at our new array:\n",
    "print(N)"
   ]
  },
  {
   "attachments": {},
   "cell_type": "markdown",
   "id": "86736cff-8e32-4192-a833-0a27bc8c99da",
   "metadata": {},
   "source": [
    "Now we want to visualize the model output. We will use the `matplotlib` library to plot how the population changes over time:"
   ]
  },
  {
   "cell_type": "code",
   "execution_count": null,
   "id": "e4af6d2b-ad49-40f3-b19b-847d6acde8c7",
   "metadata": {},
   "outputs": [],
   "source": [
    "# Plot population (N) as a function of time\n",
    "\n",
    "\n",
    "# add a title (optional: add bold)\n",
    "\n",
    "\n",
    "# add X & Y axis labels\n",
    "\n",
    "\n",
    "# Set a x axis limit\n",
    "\n",
    "\n",
    "# Show the plt\n"
   ]
  },
  {
   "attachments": {},
   "cell_type": "markdown",
   "id": "0a0a9f7b",
   "metadata": {},
   "source": [
    "But what if we wanted to experiment with changing the initial population and growth rate? This is where functions are useful!\n",
    "\n",
    "### 3. Writing functions\n",
    "\n",
    "A function takes generic input variables, performs a series of operations on them (including calculations, data processing, plotting, etc.), and returns a specified variable, figure, or even dataset! These can be written within a script, or as a separate python file. Functions are helpful because you don't have to rewrite the same block of code over & over again and because you can ensure that the same actions are being performed on each dataset. It's good practice to use functions when writing code -- particularly outside of jupyter notebooks.\n",
    "\n",
    "Let's practice building a function by combining our above code into a single function. This function will take the initial population and growth rate as parameters (modelSteps could also be a parameter but we'll leave it as a constant for now!). The function will plot the model output and return an array with the population at each timestep"
   ]
  },
  {
   "cell_type": "code",
   "execution_count": null,
   "id": "75e7f85c",
   "metadata": {},
   "outputs": [],
   "source": [
    "def growthModel(N0,r):\n",
    "    \"\"\"\n",
    "    Remember to comment your functions! These triple quotes let us write a multi line doc string. It's good practice to include the purpose, inputs, and outputs of a function unless they are very obvious (such as in a very short function)\n",
    "\n",
    "    Calculate population using growth model dN/dt = r*N and plot population as function of time\n",
    "    Function take initial population (N0) and hourly growth rate (r) as parameters and returns array with population (# of individuals) at each hour timestep\n",
    "    \"\"\" \n",
    "    # Create an empty array to store population size and set population at time = 0\n",
    "\n",
    "\n",
    "    # Use for loop to calculate population at each time step\n",
    "\n",
    "    \n",
    "    # Plot population (N) as a function of time\n",
    "\n",
    "\n",
    "    # add a title and axis labels/limits\n",
    "\n",
    "\n",
    "    # Show the plt\n",
    "\n",
    "\n",
    "    # Return model output\n",
    "    return"
   ]
  },
  {
   "attachments": {},
   "cell_type": "markdown",
   "id": "513653f9",
   "metadata": {},
   "source": [
    "Now we can test our function! Choose an initial value and growth rate:"
   ]
  },
  {
   "cell_type": "code",
   "execution_count": null,
   "id": "be6cd625",
   "metadata": {},
   "outputs": [],
   "source": [
    "growthModel(); #the ; suppresses the function output, if we deleted this we would see the dataframe\n",
    "\n",
    "population = growthModel(5,0.1) #can also save output using new variable --> don't need ; to suppress output in this case\n",
    "print(population)"
   ]
  },
  {
   "attachments": {},
   "cell_type": "markdown",
   "id": "d4d832b1-7c0b-4c5f-b56f-cb7dc06c1a86",
   "metadata": {},
   "source": [
    "Congratulations! We just constructed and plotted a linear growth model. In this example, we practiced using '*for*' loops, implemented a function, and gained familiarity with several python libraries (`numpy` and `matplotlib`) \n",
    "\n",
    "### 4. Optional: Run model with variable growth rate\n",
    "\n",
    "Now let's add one more layer of complexity so that we can practice with some new tools! In this section, we will use the `scipy` library and learn how to plot a linear regression. We will also practice reading documentation, which is an important skill.\n",
    "\n",
    "For this exercise, we are going to make our data more messy by letting the growth rate be randomly drawn from a normal distribution. We will then use this variable growth rate in the same population model as above.\n",
    "\n",
    "Let's practice reading documentation! Our random value will be generated using [this function](https://numpy.org/doc/stable/reference/random/generated/numpy.random.Generator.normal.html#numpy.random.Generator.normal). Use the function to draw a random value from a normal distribution:"
   ]
  },
  {
   "cell_type": "code",
   "execution_count": null,
   "id": "c8633f8b",
   "metadata": {},
   "outputs": [],
   "source": [
    "# Set values for mean and standard deviation of the normal distribution\n",
    "mu, sigma =\n",
    "\n",
    "# Numpy random generator\n",
    "rng = np.random.default_rng()\n",
    "\n",
    "# Draw random value from distribution (run it a few time to see output change):\n"
   ]
  },
  {
   "attachments": {},
   "cell_type": "markdown",
   "id": "51b96738",
   "metadata": {},
   "source": [
    "Now we can write a function based on the one we wrote in step 3:"
   ]
  },
  {
   "cell_type": "code",
   "execution_count": null,
   "id": "1f700aac-9056-4564-a226-c4313133bc2a",
   "metadata": {},
   "outputs": [],
   "source": [
    "def variableGrowthModel(N0,r_mu,r_sigma):\n",
    "    \"\"\"\n",
    "    Calculate and plot population using growth model dN/dt = r*N, where the growth rate (r) is randomly drawn from a normal distribution\n",
    "    Parameters: initial population (N0), mean hourly growth rate (r_mu), standard deviation of the growth rate distribution (r_sigma) \n",
    "    Returns: Model output (array with population at each hour timestep)\n",
    "    \"\"\" \n",
    "    # Create an empty array to store population size and set population at time = 0\n",
    "\n",
    "\n",
    "    # Use for loop to calculate population at each time step\n",
    "    \n",
    "\n",
    "    # Plot population (N) as a function of time\n",
    "\n",
    "\n",
    "    # add axis labels/limits\n",
    "\n",
    "\n",
    "    # Show the plt\n",
    "\n",
    "\n",
    "    # Return model output\n",
    "    return"
   ]
  },
  {
   "attachments": {},
   "cell_type": "markdown",
   "id": "6a46747f",
   "metadata": {},
   "source": [
    "Run the function and look at the output:"
   ]
  },
  {
   "cell_type": "code",
   "execution_count": null,
   "id": "c9aee24a",
   "metadata": {},
   "outputs": [],
   "source": [
    "# Call function and assign variable for output\n",
    "# Run several times to see impact of random number generator on model output\n",
    "population = variableGrowthModel(10,0.1,0.1)"
   ]
  },
  {
   "attachments": {},
   "cell_type": "markdown",
   "id": "c35af8b8",
   "metadata": {},
   "source": [
    "Exponential growth appears linear when plot natural log. Let's do that here and then add a linear regression to the plot:"
   ]
  },
  {
   "cell_type": "code",
   "execution_count": null,
   "id": "76a3d8e0",
   "metadata": {},
   "outputs": [],
   "source": [
    "# Plot natural log of population as a function of time\n",
    "\n",
    "\n",
    "# Add axis labels/limits\n",
    "\n",
    "\n",
    "# Show the plt\n"
   ]
  },
  {
   "attachments": {},
   "cell_type": "markdown",
   "id": "0c9a5a35",
   "metadata": {},
   "source": [
    "Now we can add a linear regression and $R^2$ value to this plot. We will use the scipy.stats.linregress function (see documentation [here](https://docs.scipy.org/doc/scipy/reference/generated/scipy.stats.linregress.html)):"
   ]
  },
  {
   "cell_type": "code",
   "execution_count": null,
   "id": "abac1466",
   "metadata": {},
   "outputs": [],
   "source": [
    "# First we need to import a new library\n",
    "import scipy as sp\n",
    "\n",
    "# Calculate linear regression\n",
    "result =\n",
    "\n",
    "# Print results (R^2, intercept, slope)\n",
    "print(f\"R^2: {result.rvalue**2:.2f}\")\n",
    "print() #y-intercept\n",
    "print() #slope"
   ]
  },
  {
   "cell_type": "code",
   "execution_count": null,
   "id": "4792a702",
   "metadata": {},
   "outputs": [],
   "source": [
    "# Add linear regression to plot\n",
    "# Plot natural log of population as a function of time\n",
    "\n",
    "\n",
    "# Add regression line\n",
    "\n",
    "\n",
    "# Add legend for model and regression line\n",
    "\n",
    "\n",
    "# Print R^2 values on plot\n",
    "\n",
    "\n",
    "# Add axis labels/limits\n",
    "\n",
    "\n",
    "# Show the plt\n"
   ]
  },
  {
   "attachments": {},
   "cell_type": "markdown",
   "id": "d0803520-8035-42c4-913c-72816519a39d",
   "metadata": {},
   "source": [
    "Good work! We have just learned to perform a linear regression using `scipy`. Now try out exercise 2 to practice importing data from files and creating more plots."
   ]
  }
 ],
 "metadata": {
  "kernelspec": {
   "display_name": "Python 3 (ipykernel)",
   "language": "python",
   "name": "python3"
  },
  "language_info": {
   "codemirror_mode": {
    "name": "ipython",
    "version": 3
   },
   "file_extension": ".py",
   "mimetype": "text/x-python",
   "name": "python",
   "nbconvert_exporter": "python",
   "pygments_lexer": "ipython3",
   "version": "3.13.5"
  },
  "vscode": {
   "interpreter": {
    "hash": "79510e50ca95433d4d620dcabab596535352f4e2d977b72acf10bea01cb72dac"
   }
  }
 },
 "nbformat": 4,
 "nbformat_minor": 5
}
